{
 "cells": [
  {
   "cell_type": "code",
   "execution_count": 2,
   "metadata": {},
   "outputs": [],
   "source": [
    "import gym\n",
    "from flowpipe import Graph, INode, Node, InputPlug, OutputPlug\n"
   ]
  },
  {
   "cell_type": "code",
   "execution_count": null,
   "metadata": {},
   "outputs": [],
   "source": [
    "class Stream(INode):\n",
    "    def __init__(self, **kwargs):\n",
    "        super(Stream, self).__init__(**kwargs)\n",
    "        self.data = []\n",
    "\n",
    "\n",
    "    def add_data(self, new_data: List, key: Callable=None) -> None:\n",
    "        if key is None:\n",
    "            self.data.extend(new_data)\n",
    "            return\n",
    "\n",
    "        data_as_dict = {key(x):x for x in self.data}\n",
    "\n",
    "        for record in new_data:\n",
    "            # this may sometimes override existing records\n",
    "            # but that's intentional as we only want one record per key\n",
    "            data_as_dict[key(record)] = record\n",
    "\n",
    "        self.data = list(data_as_dict.values())\n",
    "\n",
    "\n",
    "    def get_data(self, drop=False):\n",
    "        data_to_return = self.data[:]\n",
    "        if drop:\n",
    "            self.data = []\n",
    "        return data_to_return\n",
    "    \n",
    "## Input streams\n",
    "\n",
    "class StateAgent(Stream):\n",
    "    def __init__(self, **kwargs):\n",
    "        super(StateAgent, self).__init__(**kwargs)\n",
    "        OutputPlug('agent_state', self)\n",
    "    \n",
    "    def compute(self) -> Dict:\n",
    "        return {'agent_state': self.data}\n",
    "\n",
    "class RewardAgent(Stream):\n",
    "    def __init__(self, **kwargs):\n",
    "        super(RewardAgent, self).__init__(**kwargs)\n",
    "        OutputPlug('agent_reward', self)\n",
    "    \n",
    "    def compute(self) -> Dict:\n",
    "        return {'agent_reward': self.data}\n",
    "\n",
    "## Inner streams\n",
    "\n",
    "class WeightPolicy(Stream):\n",
    "    def __init__(self, **kwargs):\n",
    "        super(WeightPolicy, self).__init__(**kwargs)\n",
    "        InputPlug('weight_policy', self)\n",
    "        OutputPlug('weight_policy', self)\n",
    "    \n",
    "    def compute(self, weight) -> Dict:\n",
    "        self.add_data(weight)\n",
    "        return {'weight_stream': self.data}\n",
    "\n",
    "## Output streams\n",
    "\n",
    "class ActionAgent(Stream):\n",
    "    def __init__(self, **kwargs):\n",
    "        super(ActionAgent, self).__init__(**kwargs)\n",
    "        InputPlug('action_agent', self)\n",
    "        OutputPlug('action_agent', self)\n",
    "\n",
    "    def compute(self, action_agent: List) -> Dict:\n",
    "        self.add_data(action_agent)\n",
    "        return {'action_agent': self.data}    \n",
    "    \n",
    "## Processing Node\n"
   ]
  },
  {
   "cell_type": "code",
   "execution_count": 3,
   "metadata": {},
   "outputs": [],
   "source": [
    "class ComputeAction(INode):\n",
    "    \"\"\"A node can be derived from the INode interface.\n",
    "\n",
    "    The plugs are defined in the init method.\n",
    "    The compute method received the inputs from any connected upstream nodes.\n",
    "    \"\"\"\n",
    "\n",
    "    def __init__(self, state=None, reward=None, action_model=None, **kwargs):\n",
    "        super(HireWorkers, self).__init__(**kwargs)\n",
    "        InputPlug('state', self, state)\n",
    "        InputPlug('reward', self, reward)\n",
    "        InputPlug('action_model', self, action_model)\n",
    "        OutputPlug('action', self)\n",
    "\n",
    "    def compute(self, state,reward,action_model):\n",
    "        return np.dot(action_model,state)\n"
   ]
  },
  {
   "cell_type": "code",
   "execution_count": null,
   "metadata": {},
   "outputs": [],
   "source": [
    "graph = Graph(name='Agent')\n"
   ]
  },
  {
   "cell_type": "code",
   "execution_count": 5,
   "metadata": {},
   "outputs": [
    {
     "data": {
      "text/plain": [
       "[2]"
      ]
     },
     "execution_count": 5,
     "metadata": {},
     "output_type": "execute_result"
    }
   ],
   "source": [
    "a = {\"1\":2}\n",
    "list(a.values())"
   ]
  },
  {
   "cell_type": "code",
   "execution_count": 6,
   "metadata": {},
   "outputs": [
    {
     "ename": "NameError",
     "evalue": "name 'key' is not defined",
     "output_type": "error",
     "traceback": [
      "\u001b[0;31m---------------------------------------------------------------------------\u001b[0m",
      "\u001b[0;31mNameError\u001b[0m                                 Traceback (most recent call last)",
      "\u001b[0;32m<ipython-input-6-a64faa86b70b>\u001b[0m in \u001b[0;36m<module>\u001b[0;34m\u001b[0m\n\u001b[0;32m----> 1\u001b[0;31m \u001b[0;34m{\u001b[0m\u001b[0mkey\u001b[0m\u001b[0;34m(\u001b[0m\u001b[0mx\u001b[0m\u001b[0;34m)\u001b[0m\u001b[0;34m:\u001b[0m\u001b[0mx\u001b[0m \u001b[0;32mfor\u001b[0m \u001b[0mx\u001b[0m \u001b[0;32min\u001b[0m \u001b[0mlist\u001b[0m\u001b[0;34m(\u001b[0m\u001b[0ma\u001b[0m\u001b[0;34m.\u001b[0m\u001b[0mvalues\u001b[0m\u001b[0;34m(\u001b[0m\u001b[0;34m)\u001b[0m\u001b[0;34m)\u001b[0m\u001b[0;34m}\u001b[0m\u001b[0;34m\u001b[0m\u001b[0;34m\u001b[0m\u001b[0m\n\u001b[0m",
      "\u001b[0;32m<ipython-input-6-a64faa86b70b>\u001b[0m in \u001b[0;36m<dictcomp>\u001b[0;34m(.0)\u001b[0m\n\u001b[0;32m----> 1\u001b[0;31m \u001b[0;34m{\u001b[0m\u001b[0mkey\u001b[0m\u001b[0;34m(\u001b[0m\u001b[0mx\u001b[0m\u001b[0;34m)\u001b[0m\u001b[0;34m:\u001b[0m\u001b[0mx\u001b[0m \u001b[0;32mfor\u001b[0m \u001b[0mx\u001b[0m \u001b[0;32min\u001b[0m \u001b[0mlist\u001b[0m\u001b[0;34m(\u001b[0m\u001b[0ma\u001b[0m\u001b[0;34m.\u001b[0m\u001b[0mvalues\u001b[0m\u001b[0;34m(\u001b[0m\u001b[0;34m)\u001b[0m\u001b[0;34m)\u001b[0m\u001b[0;34m}\u001b[0m\u001b[0;34m\u001b[0m\u001b[0;34m\u001b[0m\u001b[0m\n\u001b[0m",
      "\u001b[0;31mNameError\u001b[0m: name 'key' is not defined"
     ]
    }
   ],
   "source": [
    "{key(x):x for x in list(a.values())}"
   ]
  },
  {
   "cell_type": "code",
   "execution_count": null,
   "metadata": {},
   "outputs": [],
   "source": []
  }
 ],
 "metadata": {
  "kernelspec": {
   "display_name": "Python 3",
   "language": "python",
   "name": "python3"
  },
  "language_info": {
   "codemirror_mode": {
    "name": "ipython",
    "version": 3
   },
   "file_extension": ".py",
   "mimetype": "text/x-python",
   "name": "python",
   "nbconvert_exporter": "python",
   "pygments_lexer": "ipython3",
   "version": "3.8.6"
  }
 },
 "nbformat": 4,
 "nbformat_minor": 2
}
