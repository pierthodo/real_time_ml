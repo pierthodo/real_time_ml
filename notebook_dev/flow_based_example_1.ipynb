{
 "cells": [
  {
   "cell_type": "code",
   "execution_count": 2,
   "metadata": {},
   "outputs": [],
   "source": [
    "from flowpipe import Graph, INode, Node, InputPlug, OutputPlug\n",
    "\n",
    "\n"
   ]
  },
  {
   "cell_type": "code",
   "execution_count": 3,
   "metadata": {},
   "outputs": [
    {
     "name": "stderr",
     "output_type": "stream",
     "text": [
      "/Users/pierthodo/anaconda3/envs/bounded_rationality/lib/python3.8/site-packages/flowpipe/node.py:67: UserWarning: Cannot serialize nodes defined in '__main__'\n",
      "  warnings.warn(\"Cannot serialize nodes defined in '__main__'\")\n"
     ]
    }
   ],
   "source": [
    "class HireWorkers(INode):\n",
    "    \"\"\"A node can be derived from the INode interface.\n",
    "\n",
    "    The plugs are defined in the init method.\n",
    "    The compute method received the inputs from any connected upstream nodes.\n",
    "    \"\"\"\n",
    "\n",
    "    def __init__(self, amount=None, **kwargs):\n",
    "        super(HireWorkers, self).__init__(**kwargs)\n",
    "        InputPlug('amount', self, amount)\n",
    "        OutputPlug('workers', self)\n",
    "\n",
    "    def compute(self, amount):\n",
    "        workers = ['John', 'Jane', 'Mike', 'Michelle']\n",
    "        print('{0} workers are hired to build the house.'.format(amount))\n",
    "        return {'workers.{0}'.format(i): workers[i] for i in range(amount)}\n",
    "\n",
    "\n",
    "@Node(outputs=['workers'])\n",
    "def Build(workers, section):\n",
    "    \"\"\"A node can also be created by the Node decorator.outputs\n",
    "\n",
    "    The inputs to the function are turned into InputsPlugs, otuputs are defined\n",
    "    in the decorator itself. The wrapped function is used as the compute method.\n",
    "    \"\"\"\n",
    "    print('{0} are building the {1}'.format(', '.join(workers.values()), section))\n",
    "    return {'workers.{0}'.format(i): worker for i, worker in workers.items()}\n",
    "\n",
    "\n",
    "@Node()\n",
    "def Party(attendees):\n",
    "    print('{0} and {1} are having a great party!'.format(\n",
    "        ', '.join(list(attendees.values())[:-1]), list(attendees.values())[-1]))\n",
    "\n",
    "\n",
    "# Create a graph with the necessary nodes\n",
    "graph = Graph(name='How to build a house')\n",
    "workers = HireWorkers(graph=graph, amount=4)\n",
    "build_walls = Build(graph=graph, name='Build Walls', section='walls')\n",
    "build_roof = Build(graph=graph, name='Build Roof', section='roof')\n",
    "party = Party(graph=graph, name='Housewarming Party')\n",
    "\n",
    "# Wire up the connections between the nodes\n",
    "workers.outputs['workers']['0'].connect(build_walls.inputs['workers']['0'])\n",
    "workers.outputs['workers']['1'].connect(build_walls.inputs['workers']['1'])\n",
    "workers.outputs['workers']['2'].connect(build_roof.inputs['workers']['0'])\n",
    "workers.outputs['workers']['3'].connect(build_roof.inputs['workers']['1'])\n",
    "build_walls.outputs['workers']['0'] >> party.inputs['attendees']['0']\n",
    "build_walls.outputs['workers']['1'] >> party.inputs['attendees']['2']\n",
    "build_roof.outputs['workers']['0'] >> party.inputs['attendees']['1']\n",
    "build_roof.outputs['workers']['1'] >> party.inputs['attendees']['3']\n",
    "party.inputs['attendees']['4'].value = 'Homeowner'"
   ]
  },
  {
   "cell_type": "code",
   "execution_count": 4,
   "metadata": {},
   "outputs": [
    {
     "name": "stdout",
     "output_type": "stream",
     "text": [
      "How to build a house\n",
      "+------------------------+          +------------------------+          +---------------------------+\n",
      "|      HireWorkers       |          |       Build Roof       |          |    Housewarming Party     |\n",
      "|------------------------|          |------------------------|          |---------------------------|\n",
      "o amount<4>              |          o section<roof>          |          % attendees<>               |\n",
      "|              workers<> %          % workers<>              |     +--->o  attendees.0<>            |\n",
      "|           workers.0<>  o-----+--->o  workers.0<>           |     |--->o  attendees.1<>            |\n",
      "|           workers.1<>  o-----|--->o  workers.1<>           |     |--->o  attendees.2<>            |\n",
      "|           workers.2<>  o-----|    |              workers<> %     |--->o  attendees.3<>            |\n",
      "|           workers.3<>  o-----|    |           workers.0<>  o-----|    o  attendees.4<Homeowner>   |\n",
      "+------------------------+     |    |           workers.1<>  o-----|    +---------------------------+\n",
      "                               |    +------------------------+     |                                 \n",
      "                               |    +------------------------+     |                                 \n",
      "                               |    |      Build Walls       |     |                                 \n",
      "                               |    |------------------------|     |                                 \n",
      "                               |    o section<walls>         |     |                                 \n",
      "                               |    % workers<>              |     |                                 \n",
      "                               +--->o  workers.0<>           |     |                                 \n",
      "                               +--->o  workers.1<>           |     |                                 \n",
      "                                    |              workers<> %     |                                 \n",
      "                                    |           workers.0<>  o-----+                                 \n",
      "                                    |           workers.1<>  o-----+                                 \n",
      "                                    +------------------------+                                       \n",
      "How to build a house\n",
      " HireWorkers\n",
      "  [i] amount: 4\n",
      "  [o] workers\n",
      "   [o] workers.0 >> Build Walls.workers.0\n",
      "   [o] workers.1 >> Build Walls.workers.1\n",
      "   [o] workers.2 >> Build Roof.workers.0\n",
      "   [o] workers.3 >> Build Roof.workers.1\n",
      " Build Roof\n",
      "  [i] section: \"roof\"\n",
      "  [i] workers\n",
      "   [i] workers.0 << HireWorkers.workers.2\n",
      "   [i] workers.1 << HireWorkers.workers.3\n",
      "  [o] workers\n",
      "   [o] workers.0 >> Housewarming Party.attendees.1\n",
      "   [o] workers.1 >> Housewarming Party.attendees.3\n",
      " Build Walls\n",
      "  [i] section: \"walls\"\n",
      "  [i] workers\n",
      "   [i] workers.0 << HireWorkers.workers.0\n",
      "   [i] workers.1 << HireWorkers.workers.1\n",
      "  [o] workers\n",
      "   [o] workers.0 >> Housewarming Party.attendees.0\n",
      "   [o] workers.1 >> Housewarming Party.attendees.2\n",
      " Housewarming Party\n",
      "  [i] attendees\n",
      "   [i] attendees.0 << Build Walls.workers.0\n",
      "   [i] attendees.1 << Build Roof.workers.0\n",
      "   [i] attendees.2 << Build Walls.workers.1\n",
      "   [i] attendees.3 << Build Roof.workers.1\n",
      "   [i] attendees.4: \"Homeowner\"\n"
     ]
    }
   ],
   "source": [
    "print(graph.name)\n",
    "print(graph)\n",
    "print(graph.list_repr())"
   ]
  },
  {
   "cell_type": "code",
   "execution_count": 5,
   "metadata": {},
   "outputs": [
    {
     "name": "stdout",
     "output_type": "stream",
     "text": [
      "4 workers are hired to build the house.\n",
      "Mike, Michelle are building the roofJohn, Jane are building the walls\n",
      "\n",
      "John, Jane, Mike, Michelle and Homeowner are having a great party!\n"
     ]
    }
   ],
   "source": [
    "graph.evaluate(mode='threading')  # Options are linear, threading and multiprocessing\n"
   ]
  },
  {
   "cell_type": "code",
   "execution_count": 6,
   "metadata": {},
   "outputs": [
    {
     "name": "stdout",
     "output_type": "stream",
     "text": [
      "How to throw a birthday party\n",
      "+-------------------+          +---------------------+\n",
      "|   InvitePeople    |          |   Birthday Party    |\n",
      "|-------------------|          |---------------------|\n",
      "o amount<4>         |     +--->o attendees<>         |\n",
      "|          people<> o-----+    +---------------------+\n",
      "+-------------------+                                 \n",
      "John, Jane, Mike and Michelle are having a great party!\n"
     ]
    }
   ],
   "source": [
    "graph = Graph(name='How to throw a birthday party')\n",
    "\n",
    "@Node(outputs=['people'])\n",
    "def InvitePeople(amount):\n",
    "    people = ['John', 'Jane', 'Mike', 'Michelle']\n",
    "    d = {'people.{0}'.format(i): people[i] for i in range(amount)}\n",
    "    d['people'] = {people[i]: people[i] for i in range(amount)}\n",
    "    return d\n",
    "\n",
    "invite = InvitePeople(graph=graph, amount=4)\n",
    "birthday_party = Party(graph=graph, name='Birthday Party')\n",
    "invite.outputs['people'] >> birthday_party.inputs['attendees']\n",
    "\n",
    "print(graph.name)\n",
    "print(graph)\n",
    "graph.evaluate(mode='threading')"
   ]
  },
  {
   "cell_type": "code",
   "execution_count": 7,
   "metadata": {},
   "outputs": [
    {
     "data": {
      "text/plain": [
       "0"
      ]
     },
     "execution_count": 7,
     "metadata": {},
     "output_type": "execute_result"
    }
   ],
   "source": [
    "a = 5\n",
    "b = 8\n",
    "a >> b"
   ]
  },
  {
   "cell_type": "code",
   "execution_count": 8,
   "metadata": {},
   "outputs": [
    {
     "data": {
      "text/plain": [
       "5"
      ]
     },
     "execution_count": 8,
     "metadata": {},
     "output_type": "execute_result"
    }
   ],
   "source": [
    "a"
   ]
  },
  {
   "cell_type": "code",
   "execution_count": 9,
   "metadata": {},
   "outputs": [
    {
     "data": {
      "text/plain": [
       "8"
      ]
     },
     "execution_count": 9,
     "metadata": {},
     "output_type": "execute_result"
    }
   ],
   "source": [
    "b"
   ]
  },
  {
   "cell_type": "code",
   "execution_count": null,
   "metadata": {},
   "outputs": [],
   "source": []
  }
 ],
 "metadata": {
  "kernelspec": {
   "display_name": "Python 3",
   "language": "python",
   "name": "python3"
  },
  "language_info": {
   "codemirror_mode": {
    "name": "ipython",
    "version": 3
   },
   "file_extension": ".py",
   "mimetype": "text/x-python",
   "name": "python",
   "nbconvert_exporter": "python",
   "pygments_lexer": "ipython3",
   "version": "3.8.6"
  }
 },
 "nbformat": 4,
 "nbformat_minor": 2
}
